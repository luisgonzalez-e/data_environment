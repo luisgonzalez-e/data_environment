{
 "cells": [
  {
   "cell_type": "code",
   "execution_count": 3,
   "metadata": {
    "colab": {
     "base_uri": "https://localhost:8080/",
     "height": 617
    },
    "id": "x13IW-kHYsZm",
    "outputId": "4a23692a-6f45-48cc-c9cb-d54702eab9f5"
   },
   "outputs": [
    {
     "data": {
      "application/vnd.plotly.v1+json": {
       "config": {
        "plotlyServerURL": "https://plot.ly"
       },
       "data": [
        {
         "hovertemplate": "Región=%{x}<br>Áreas desprovistas de vegetación (ha)=%{text}<extra></extra>",
         "legendgroup": "Antofagasta",
         "marker": {
          "color": "#636efa",
          "size": {
           "bdata": "lRtzAA==",
           "dtype": "i4"
          },
          "sizemode": "area",
          "sizeref": 2095.4725,
          "symbol": "circle"
         },
         "mode": "markers+text",
         "name": "Antofagasta",
         "orientation": "v",
         "showlegend": true,
         "text": {
          "bdata": "AAAAQOXGXEE=",
          "dtype": "f8"
         },
         "textposition": "top center",
         "type": "scatter",
         "x": [
          "Antofagasta"
         ],
         "xaxis": "x",
         "y": {
          "bdata": "lRtzAA==",
          "dtype": "i4"
         },
         "yaxis": "y"
        },
        {
         "hovertemplate": "Región=%{x}<br>Áreas desprovistas de vegetación (ha)=%{text}<extra></extra>",
         "legendgroup": "Tarapacá",
         "marker": {
          "color": "#EF553B",
          "size": {
           "bdata": "DHwrAA==",
           "dtype": "i4"
          },
          "sizemode": "area",
          "sizeref": 2095.4725,
          "symbol": "circle"
         },
         "mode": "markers+text",
         "name": "Tarapacá",
         "orientation": "v",
         "showlegend": true,
         "text": {
          "bdata": "AAAAAAa+RUE=",
          "dtype": "f8"
         },
         "textposition": "top center",
         "type": "scatter",
         "x": [
          "Tarapacá"
         ],
         "xaxis": "x",
         "y": {
          "bdata": "DHwrAA==",
          "dtype": "i4"
         },
         "yaxis": "y"
        },
        {
         "hovertemplate": "Región=%{x}<br>Áreas desprovistas de vegetación (ha)=%{text}<extra></extra>",
         "legendgroup": "Atacama",
         "marker": {
          "color": "#00cc96",
          "size": {
           "bdata": "WIUhAA==",
           "dtype": "i4"
          },
          "sizemode": "area",
          "sizeref": 2095.4725,
          "symbol": "circle"
         },
         "mode": "markers+text",
         "name": "Atacama",
         "orientation": "v",
         "showlegend": true,
         "text": {
          "bdata": "AAAAAKzCQEE=",
          "dtype": "f8"
         },
         "textposition": "top center",
         "type": "scatter",
         "x": [
          "Atacama"
         ],
         "xaxis": "x",
         "y": {
          "bdata": "WIUhAA==",
          "dtype": "i4"
         },
         "yaxis": "y"
        },
        {
         "hovertemplate": "Región=%{x}<br>Áreas desprovistas de vegetación (ha)=%{text}<extra></extra>",
         "legendgroup": "Aysén",
         "marker": {
          "color": "#ab63fa",
          "size": {
           "bdata": "PnEdAA==",
           "dtype": "i4"
          },
          "sizemode": "area",
          "sizeref": 2095.4725,
          "symbol": "circle"
         },
         "mode": "markers+text",
         "name": "Aysén",
         "orientation": "v",
         "showlegend": true,
         "text": {
          "bdata": "AAAAAD5xPUE=",
          "dtype": "f8"
         },
         "textposition": "top center",
         "type": "scatter",
         "x": [
          "Aysén"
         ],
         "xaxis": "x",
         "y": {
          "bdata": "PnEdAA==",
          "dtype": "i4"
         },
         "yaxis": "y"
        },
        {
         "hovertemplate": "Región=%{x}<br>Áreas desprovistas de vegetación (ha)=%{text}<extra></extra>",
         "legendgroup": "Los Lagos",
         "marker": {
          "color": "#FFA15A",
          "size": {
           "bdata": "q/IYAA==",
           "dtype": "i4"
          },
          "sizemode": "area",
          "sizeref": 2095.4725,
          "symbol": "circle"
         },
         "mode": "markers+text",
         "name": "Los Lagos",
         "orientation": "v",
         "showlegend": true,
         "text": {
          "bdata": "AAAAAKvyOEE=",
          "dtype": "f8"
         },
         "textposition": "top center",
         "type": "scatter",
         "x": [
          "Los Lagos"
         ],
         "xaxis": "x",
         "y": {
          "bdata": "q/IYAA==",
          "dtype": "i4"
         },
         "yaxis": "y"
        },
        {
         "hovertemplate": "Región=%{x}<br>Áreas desprovistas de vegetación (ha)=%{text}<extra></extra>",
         "legendgroup": "Magallanes",
         "marker": {
          "color": "#19d3f3",
          "size": {
           "bdata": "lOsLAA==",
           "dtype": "i4"
          },
          "sizemode": "area",
          "sizeref": 2095.4725,
          "symbol": "circle"
         },
         "mode": "markers+text",
         "name": "Magallanes",
         "orientation": "v",
         "showlegend": true,
         "text": {
          "bdata": "AAAAACjXJ0E=",
          "dtype": "f8"
         },
         "textposition": "top center",
         "type": "scatter",
         "x": [
          "Magallanes"
         ],
         "xaxis": "x",
         "y": {
          "bdata": "lOsLAA==",
          "dtype": "i4"
         },
         "yaxis": "y"
        },
        {
         "hovertemplate": "Región=%{x}<br>Áreas desprovistas de vegetación (ha)=%{text}<extra></extra>",
         "legendgroup": "Arica y Parinacota",
         "marker": {
          "color": "#FF6692",
          "size": {
           "bdata": "/SgKAA==",
           "dtype": "i4"
          },
          "sizemode": "area",
          "sizeref": 2095.4725,
          "symbol": "circle"
         },
         "mode": "markers+text",
         "name": "Arica y Parinacota",
         "orientation": "v",
         "showlegend": true,
         "text": {
          "bdata": "AAAAAPpRJEE=",
          "dtype": "f8"
         },
         "textposition": "top center",
         "type": "scatter",
         "x": [
          "Arica y Parinacota"
         ],
         "xaxis": "x",
         "y": {
          "bdata": "/SgKAA==",
          "dtype": "i4"
         },
         "yaxis": "y"
        },
        {
         "hovertemplate": "Región=%{x}<br>Áreas desprovistas de vegetación (ha)=%{text}<extra></extra>",
         "legendgroup": "Metropolitana",
         "marker": {
          "color": "#B6E880",
          "size": {
           "bdata": "YXsDAA==",
           "dtype": "i4"
          },
          "sizemode": "area",
          "sizeref": 2095.4725,
          "symbol": "circle"
         },
         "mode": "markers+text",
         "name": "Metropolitana",
         "orientation": "v",
         "showlegend": true,
         "text": {
          "bdata": "AAAAAAjbC0E=",
          "dtype": "f8"
         },
         "textposition": "top center",
         "type": "scatter",
         "x": [
          "Metropolitana"
         ],
         "xaxis": "x",
         "y": {
          "bdata": "YXsDAA==",
          "dtype": "i4"
         },
         "yaxis": "y"
        },
        {
         "hovertemplate": "Región=%{x}<br>Áreas desprovistas de vegetación (ha)=%{text}<extra></extra>",
         "legendgroup": "Biobío",
         "marker": {
          "color": "#FF97FF",
          "size": {
           "bdata": "cdwCAA==",
           "dtype": "i4"
          },
          "sizemode": "area",
          "sizeref": 2095.4725,
          "symbol": "circle"
         },
         "mode": "markers+text",
         "name": "Biobío",
         "orientation": "v",
         "showlegend": true,
         "text": {
          "bdata": "AAAAAIjjBkE=",
          "dtype": "f8"
         },
         "textposition": "top center",
         "type": "scatter",
         "x": [
          "Biobío"
         ],
         "xaxis": "x",
         "y": {
          "bdata": "cdwCAA==",
          "dtype": "i4"
         },
         "yaxis": "y"
        },
        {
         "hovertemplate": "Región=%{x}<br>Áreas desprovistas de vegetación (ha)=%{text}<extra></extra>",
         "legendgroup": "Valparaíso",
         "marker": {
          "color": "#FECB52",
          "size": {
           "bdata": "Bx4CAA==",
           "dtype": "i4"
          },
          "sizemode": "area",
          "sizeref": 2095.4725,
          "symbol": "circle"
         },
         "mode": "markers+text",
         "name": "Valparaíso",
         "orientation": "v",
         "showlegend": true,
         "text": {
          "bdata": "AAAAADjwAEE=",
          "dtype": "f8"
         },
         "textposition": "top center",
         "type": "scatter",
         "x": [
          "Valparaíso"
         ],
         "xaxis": "x",
         "y": {
          "bdata": "Bx4CAA==",
          "dtype": "i4"
         },
         "yaxis": "y"
        },
        {
         "hovertemplate": "Región=%{x}<br>Áreas desprovistas de vegetación (ha)=%{text}<extra></extra>",
         "legendgroup": "Ñuble",
         "marker": {
          "color": "#636efa",
          "size": {
           "bdata": "BlcBAA==",
           "dtype": "i4"
          },
          "sizemode": "area",
          "sizeref": 2095.4725,
          "symbol": "circle"
         },
         "mode": "markers+text",
         "name": "Ñuble",
         "orientation": "v",
         "showlegend": true,
         "text": {
          "bdata": "AAAAAGBw9UA=",
          "dtype": "f8"
         },
         "textposition": "top center",
         "type": "scatter",
         "x": [
          "Ñuble"
         ],
         "xaxis": "x",
         "y": {
          "bdata": "BlcBAA==",
          "dtype": "i4"
         },
         "yaxis": "y"
        },
        {
         "hovertemplate": "Región=%{x}<br>Áreas desprovistas de vegetación (ha)=%{text}<extra></extra>",
         "legendgroup": "Coquimbo",
         "marker": {
          "color": "#EF553B",
          "size": {
           "bdata": "vEgBAA==",
           "dtype": "i4"
          },
          "sizemode": "area",
          "sizeref": 2095.4725,
          "symbol": "circle"
         },
         "mode": "markers+text",
         "name": "Coquimbo",
         "orientation": "v",
         "showlegend": true,
         "text": {
          "bdata": "AAAAAMCL9EA=",
          "dtype": "f8"
         },
         "textposition": "top center",
         "type": "scatter",
         "x": [
          "Coquimbo"
         ],
         "xaxis": "x",
         "y": {
          "bdata": "vEgBAA==",
          "dtype": "i4"
         },
         "yaxis": "y"
        },
        {
         "hovertemplate": "Región=%{x}<br>Áreas desprovistas de vegetación (ha)=%{text}<extra></extra>",
         "legendgroup": "Maule",
         "marker": {
          "color": "#00cc96",
          "size": {
           "bdata": "wucAAA==",
           "dtype": "i4"
          },
          "sizemode": "area",
          "sizeref": 2095.4725,
          "symbol": "circle"
         },
         "mode": "markers+text",
         "name": "Maule",
         "orientation": "v",
         "showlegend": true,
         "text": {
          "bdata": "AAAAAED47EA=",
          "dtype": "f8"
         },
         "textposition": "top center",
         "type": "scatter",
         "x": [
          "Maule"
         ],
         "xaxis": "x",
         "y": {
          "bdata": "wucAAA==",
          "dtype": "i4"
         },
         "yaxis": "y"
        },
        {
         "hovertemplate": "Región=%{x}<br>Áreas desprovistas de vegetación (ha)=%{text}<extra></extra>",
         "legendgroup": "O’Higgins",
         "marker": {
          "color": "#ab63fa",
          "size": {
           "bdata": "r4MAAA==",
           "dtype": "i4"
          },
          "sizemode": "area",
          "sizeref": 2095.4725,
          "symbol": "circle"
         },
         "mode": "markers+text",
         "name": "O’Higgins",
         "orientation": "v",
         "showlegend": true,
         "text": {
          "bdata": "AAAAAOB14EA=",
          "dtype": "f8"
         },
         "textposition": "top center",
         "type": "scatter",
         "x": [
          "O’Higgins"
         ],
         "xaxis": "x",
         "y": {
          "bdata": "r4MAAA==",
          "dtype": "i4"
         },
         "yaxis": "y"
        },
        {
         "hovertemplate": "Región=%{x}<br>Áreas desprovistas de vegetación (ha)=%{text}<extra></extra>",
         "legendgroup": "Los Ríos",
         "marker": {
          "color": "#FFA15A",
          "size": {
           "bdata": "Vnc=",
           "dtype": "i2"
          },
          "sizemode": "area",
          "sizeref": 2095.4725,
          "symbol": "circle"
         },
         "mode": "markers+text",
         "name": "Los Ríos",
         "orientation": "v",
         "showlegend": true,
         "text": {
          "bdata": "AAAAAIDV3UA=",
          "dtype": "f8"
         },
         "textposition": "top center",
         "type": "scatter",
         "x": [
          "Los Ríos"
         ],
         "xaxis": "x",
         "y": {
          "bdata": "Vnc=",
          "dtype": "i2"
         },
         "yaxis": "y"
        },
        {
         "hovertemplate": "Región=%{x}<br>Áreas desprovistas de vegetación (ha)=%{text}<extra></extra>",
         "legendgroup": "La Araucanía",
         "marker": {
          "color": "#19d3f3",
          "size": {
           "bdata": "/wk=",
           "dtype": "i2"
          },
          "sizemode": "area",
          "sizeref": 2095.4725,
          "symbol": "circle"
         },
         "mode": "markers+text",
         "name": "La Araucanía",
         "orientation": "v",
         "showlegend": true,
         "text": {
          "bdata": "AAAAAAD+o0A=",
          "dtype": "f8"
         },
         "textposition": "top center",
         "type": "scatter",
         "x": [
          "La Araucanía"
         ],
         "xaxis": "x",
         "y": {
          "bdata": "/wk=",
          "dtype": "i2"
         },
         "yaxis": "y"
        }
       ],
       "layout": {
        "height": 600,
        "legend": {
         "itemsizing": "constant",
         "title": {
          "text": "Región"
         },
         "tracegroupgap": 0
        },
        "showlegend": false,
        "template": {
         "data": {
          "bar": [
           {
            "error_x": {
             "color": "#2a3f5f"
            },
            "error_y": {
             "color": "#2a3f5f"
            },
            "marker": {
             "line": {
              "color": "#E5ECF6",
              "width": 0.5
             },
             "pattern": {
              "fillmode": "overlay",
              "size": 10,
              "solidity": 0.2
             }
            },
            "type": "bar"
           }
          ],
          "barpolar": [
           {
            "marker": {
             "line": {
              "color": "#E5ECF6",
              "width": 0.5
             },
             "pattern": {
              "fillmode": "overlay",
              "size": 10,
              "solidity": 0.2
             }
            },
            "type": "barpolar"
           }
          ],
          "carpet": [
           {
            "aaxis": {
             "endlinecolor": "#2a3f5f",
             "gridcolor": "white",
             "linecolor": "white",
             "minorgridcolor": "white",
             "startlinecolor": "#2a3f5f"
            },
            "baxis": {
             "endlinecolor": "#2a3f5f",
             "gridcolor": "white",
             "linecolor": "white",
             "minorgridcolor": "white",
             "startlinecolor": "#2a3f5f"
            },
            "type": "carpet"
           }
          ],
          "choropleth": [
           {
            "colorbar": {
             "outlinewidth": 0,
             "ticks": ""
            },
            "type": "choropleth"
           }
          ],
          "contour": [
           {
            "colorbar": {
             "outlinewidth": 0,
             "ticks": ""
            },
            "colorscale": [
             [
              0,
              "#0d0887"
             ],
             [
              0.1111111111111111,
              "#46039f"
             ],
             [
              0.2222222222222222,
              "#7201a8"
             ],
             [
              0.3333333333333333,
              "#9c179e"
             ],
             [
              0.4444444444444444,
              "#bd3786"
             ],
             [
              0.5555555555555556,
              "#d8576b"
             ],
             [
              0.6666666666666666,
              "#ed7953"
             ],
             [
              0.7777777777777778,
              "#fb9f3a"
             ],
             [
              0.8888888888888888,
              "#fdca26"
             ],
             [
              1,
              "#f0f921"
             ]
            ],
            "type": "contour"
           }
          ],
          "contourcarpet": [
           {
            "colorbar": {
             "outlinewidth": 0,
             "ticks": ""
            },
            "type": "contourcarpet"
           }
          ],
          "heatmap": [
           {
            "colorbar": {
             "outlinewidth": 0,
             "ticks": ""
            },
            "colorscale": [
             [
              0,
              "#0d0887"
             ],
             [
              0.1111111111111111,
              "#46039f"
             ],
             [
              0.2222222222222222,
              "#7201a8"
             ],
             [
              0.3333333333333333,
              "#9c179e"
             ],
             [
              0.4444444444444444,
              "#bd3786"
             ],
             [
              0.5555555555555556,
              "#d8576b"
             ],
             [
              0.6666666666666666,
              "#ed7953"
             ],
             [
              0.7777777777777778,
              "#fb9f3a"
             ],
             [
              0.8888888888888888,
              "#fdca26"
             ],
             [
              1,
              "#f0f921"
             ]
            ],
            "type": "heatmap"
           }
          ],
          "histogram": [
           {
            "marker": {
             "pattern": {
              "fillmode": "overlay",
              "size": 10,
              "solidity": 0.2
             }
            },
            "type": "histogram"
           }
          ],
          "histogram2d": [
           {
            "colorbar": {
             "outlinewidth": 0,
             "ticks": ""
            },
            "colorscale": [
             [
              0,
              "#0d0887"
             ],
             [
              0.1111111111111111,
              "#46039f"
             ],
             [
              0.2222222222222222,
              "#7201a8"
             ],
             [
              0.3333333333333333,
              "#9c179e"
             ],
             [
              0.4444444444444444,
              "#bd3786"
             ],
             [
              0.5555555555555556,
              "#d8576b"
             ],
             [
              0.6666666666666666,
              "#ed7953"
             ],
             [
              0.7777777777777778,
              "#fb9f3a"
             ],
             [
              0.8888888888888888,
              "#fdca26"
             ],
             [
              1,
              "#f0f921"
             ]
            ],
            "type": "histogram2d"
           }
          ],
          "histogram2dcontour": [
           {
            "colorbar": {
             "outlinewidth": 0,
             "ticks": ""
            },
            "colorscale": [
             [
              0,
              "#0d0887"
             ],
             [
              0.1111111111111111,
              "#46039f"
             ],
             [
              0.2222222222222222,
              "#7201a8"
             ],
             [
              0.3333333333333333,
              "#9c179e"
             ],
             [
              0.4444444444444444,
              "#bd3786"
             ],
             [
              0.5555555555555556,
              "#d8576b"
             ],
             [
              0.6666666666666666,
              "#ed7953"
             ],
             [
              0.7777777777777778,
              "#fb9f3a"
             ],
             [
              0.8888888888888888,
              "#fdca26"
             ],
             [
              1,
              "#f0f921"
             ]
            ],
            "type": "histogram2dcontour"
           }
          ],
          "mesh3d": [
           {
            "colorbar": {
             "outlinewidth": 0,
             "ticks": ""
            },
            "type": "mesh3d"
           }
          ],
          "parcoords": [
           {
            "line": {
             "colorbar": {
              "outlinewidth": 0,
              "ticks": ""
             }
            },
            "type": "parcoords"
           }
          ],
          "pie": [
           {
            "automargin": true,
            "type": "pie"
           }
          ],
          "scatter": [
           {
            "fillpattern": {
             "fillmode": "overlay",
             "size": 10,
             "solidity": 0.2
            },
            "type": "scatter"
           }
          ],
          "scatter3d": [
           {
            "line": {
             "colorbar": {
              "outlinewidth": 0,
              "ticks": ""
             }
            },
            "marker": {
             "colorbar": {
              "outlinewidth": 0,
              "ticks": ""
             }
            },
            "type": "scatter3d"
           }
          ],
          "scattercarpet": [
           {
            "marker": {
             "colorbar": {
              "outlinewidth": 0,
              "ticks": ""
             }
            },
            "type": "scattercarpet"
           }
          ],
          "scattergeo": [
           {
            "marker": {
             "colorbar": {
              "outlinewidth": 0,
              "ticks": ""
             }
            },
            "type": "scattergeo"
           }
          ],
          "scattergl": [
           {
            "marker": {
             "colorbar": {
              "outlinewidth": 0,
              "ticks": ""
             }
            },
            "type": "scattergl"
           }
          ],
          "scattermap": [
           {
            "marker": {
             "colorbar": {
              "outlinewidth": 0,
              "ticks": ""
             }
            },
            "type": "scattermap"
           }
          ],
          "scattermapbox": [
           {
            "marker": {
             "colorbar": {
              "outlinewidth": 0,
              "ticks": ""
             }
            },
            "type": "scattermapbox"
           }
          ],
          "scatterpolar": [
           {
            "marker": {
             "colorbar": {
              "outlinewidth": 0,
              "ticks": ""
             }
            },
            "type": "scatterpolar"
           }
          ],
          "scatterpolargl": [
           {
            "marker": {
             "colorbar": {
              "outlinewidth": 0,
              "ticks": ""
             }
            },
            "type": "scatterpolargl"
           }
          ],
          "scatterternary": [
           {
            "marker": {
             "colorbar": {
              "outlinewidth": 0,
              "ticks": ""
             }
            },
            "type": "scatterternary"
           }
          ],
          "surface": [
           {
            "colorbar": {
             "outlinewidth": 0,
             "ticks": ""
            },
            "colorscale": [
             [
              0,
              "#0d0887"
             ],
             [
              0.1111111111111111,
              "#46039f"
             ],
             [
              0.2222222222222222,
              "#7201a8"
             ],
             [
              0.3333333333333333,
              "#9c179e"
             ],
             [
              0.4444444444444444,
              "#bd3786"
             ],
             [
              0.5555555555555556,
              "#d8576b"
             ],
             [
              0.6666666666666666,
              "#ed7953"
             ],
             [
              0.7777777777777778,
              "#fb9f3a"
             ],
             [
              0.8888888888888888,
              "#fdca26"
             ],
             [
              1,
              "#f0f921"
             ]
            ],
            "type": "surface"
           }
          ],
          "table": [
           {
            "cells": {
             "fill": {
              "color": "#EBF0F8"
             },
             "line": {
              "color": "white"
             }
            },
            "header": {
             "fill": {
              "color": "#C8D4E3"
             },
             "line": {
              "color": "white"
             }
            },
            "type": "table"
           }
          ]
         },
         "layout": {
          "annotationdefaults": {
           "arrowcolor": "#2a3f5f",
           "arrowhead": 0,
           "arrowwidth": 1
          },
          "autotypenumbers": "strict",
          "coloraxis": {
           "colorbar": {
            "outlinewidth": 0,
            "ticks": ""
           }
          },
          "colorscale": {
           "diverging": [
            [
             0,
             "#8e0152"
            ],
            [
             0.1,
             "#c51b7d"
            ],
            [
             0.2,
             "#de77ae"
            ],
            [
             0.3,
             "#f1b6da"
            ],
            [
             0.4,
             "#fde0ef"
            ],
            [
             0.5,
             "#f7f7f7"
            ],
            [
             0.6,
             "#e6f5d0"
            ],
            [
             0.7,
             "#b8e186"
            ],
            [
             0.8,
             "#7fbc41"
            ],
            [
             0.9,
             "#4d9221"
            ],
            [
             1,
             "#276419"
            ]
           ],
           "sequential": [
            [
             0,
             "#0d0887"
            ],
            [
             0.1111111111111111,
             "#46039f"
            ],
            [
             0.2222222222222222,
             "#7201a8"
            ],
            [
             0.3333333333333333,
             "#9c179e"
            ],
            [
             0.4444444444444444,
             "#bd3786"
            ],
            [
             0.5555555555555556,
             "#d8576b"
            ],
            [
             0.6666666666666666,
             "#ed7953"
            ],
            [
             0.7777777777777778,
             "#fb9f3a"
            ],
            [
             0.8888888888888888,
             "#fdca26"
            ],
            [
             1,
             "#f0f921"
            ]
           ],
           "sequentialminus": [
            [
             0,
             "#0d0887"
            ],
            [
             0.1111111111111111,
             "#46039f"
            ],
            [
             0.2222222222222222,
             "#7201a8"
            ],
            [
             0.3333333333333333,
             "#9c179e"
            ],
            [
             0.4444444444444444,
             "#bd3786"
            ],
            [
             0.5555555555555556,
             "#d8576b"
            ],
            [
             0.6666666666666666,
             "#ed7953"
            ],
            [
             0.7777777777777778,
             "#fb9f3a"
            ],
            [
             0.8888888888888888,
             "#fdca26"
            ],
            [
             1,
             "#f0f921"
            ]
           ]
          },
          "colorway": [
           "#636efa",
           "#EF553B",
           "#00cc96",
           "#ab63fa",
           "#FFA15A",
           "#19d3f3",
           "#FF6692",
           "#B6E880",
           "#FF97FF",
           "#FECB52"
          ],
          "font": {
           "color": "#2a3f5f"
          },
          "geo": {
           "bgcolor": "white",
           "lakecolor": "white",
           "landcolor": "#E5ECF6",
           "showlakes": true,
           "showland": true,
           "subunitcolor": "white"
          },
          "hoverlabel": {
           "align": "left"
          },
          "hovermode": "closest",
          "mapbox": {
           "style": "light"
          },
          "paper_bgcolor": "white",
          "plot_bgcolor": "#E5ECF6",
          "polar": {
           "angularaxis": {
            "gridcolor": "white",
            "linecolor": "white",
            "ticks": ""
           },
           "bgcolor": "#E5ECF6",
           "radialaxis": {
            "gridcolor": "white",
            "linecolor": "white",
            "ticks": ""
           }
          },
          "scene": {
           "xaxis": {
            "backgroundcolor": "#E5ECF6",
            "gridcolor": "white",
            "gridwidth": 2,
            "linecolor": "white",
            "showbackground": true,
            "ticks": "",
            "zerolinecolor": "white"
           },
           "yaxis": {
            "backgroundcolor": "#E5ECF6",
            "gridcolor": "white",
            "gridwidth": 2,
            "linecolor": "white",
            "showbackground": true,
            "ticks": "",
            "zerolinecolor": "white"
           },
           "zaxis": {
            "backgroundcolor": "#E5ECF6",
            "gridcolor": "white",
            "gridwidth": 2,
            "linecolor": "white",
            "showbackground": true,
            "ticks": "",
            "zerolinecolor": "white"
           }
          },
          "shapedefaults": {
           "line": {
            "color": "#2a3f5f"
           }
          },
          "ternary": {
           "aaxis": {
            "gridcolor": "white",
            "linecolor": "white",
            "ticks": ""
           },
           "baxis": {
            "gridcolor": "white",
            "linecolor": "white",
            "ticks": ""
           },
           "bgcolor": "#E5ECF6",
           "caxis": {
            "gridcolor": "white",
            "linecolor": "white",
            "ticks": ""
           }
          },
          "title": {
           "x": 0.05
          },
          "xaxis": {
           "automargin": true,
           "gridcolor": "white",
           "linecolor": "white",
           "ticks": "",
           "title": {
            "standoff": 15
           },
           "zerolinecolor": "white",
           "zerolinewidth": 2
          },
          "yaxis": {
           "automargin": true,
           "gridcolor": "white",
           "linecolor": "white",
           "ticks": "",
           "title": {
            "standoff": 15
           },
           "zerolinecolor": "white",
           "zerolinewidth": 2
          }
         }
        },
        "title": {
         "text": "Áreas desprovistas de vegetación por región (2023)"
        },
        "xaxis": {
         "anchor": "y",
         "categoryarray": [
          "Antofagasta",
          "Tarapacá",
          "Atacama",
          "Aysén",
          "Los Lagos",
          "Magallanes",
          "Arica y Parinacota",
          "Metropolitana",
          "Biobío",
          "Valparaíso",
          "Ñuble",
          "Coquimbo",
          "Maule",
          "O’Higgins",
          "Los Ríos",
          "La Araucanía"
         ],
         "categoryorder": "array",
         "domain": [
          0,
          1
         ],
         "tickangle": -45,
         "title": {
          "text": "Región"
         }
        },
        "yaxis": {
         "anchor": "x",
         "domain": [
          0,
          1
         ],
         "title": {
          "text": "Superficie (hectáreas)"
         }
        }
       }
      }
     },
     "metadata": {},
     "output_type": "display_data"
    }
   ],
   "source": [
    "import pandas as pd\n",
    "import plotly.express as px\n",
    "\n",
    "csv_path = \"../../Datos/Tarea-1/areas_desprovistas_vegetacion_2023.csv\"\n",
    "df = pd.read_csv(csv_path)\n",
    "\n",
    "df = df.sort_values(by=\"Áreas desprovistas de vegetación (ha)\", ascending=False)\n",
    "\n",
    "fig = px.scatter(\n",
    "    df,\n",
    "    x=\"Región\",\n",
    "    y=\"Áreas desprovistas de vegetación (ha)\",\n",
    "    size=\"Áreas desprovistas de vegetación (ha)\",\n",
    "    color=\"Región\",\n",
    "    text=\"Áreas desprovistas de vegetación (ha)\",\n",
    "    title=\"Áreas desprovistas de vegetación por región (2023)\",\n",
    "    size_max=60\n",
    ")\n",
    "\n",
    "fig.update_traces(textposition='top center')\n",
    "fig.update_layout(\n",
    "    xaxis_title=\"Región\",\n",
    "    yaxis_title=\"Superficie (hectáreas)\",\n",
    "    xaxis_tickangle=-45,\n",
    "    height=600,\n",
    "    showlegend=False\n",
    ")\n",
    "\n",
    "fig.show()"
   ]
  }
 ],
 "metadata": {
  "colab": {
   "provenance": []
  },
  "kernelspec": {
   "display_name": "Python 3",
   "name": "python3"
  },
  "language_info": {
   "codemirror_mode": {
    "name": "ipython",
    "version": 3
   },
   "file_extension": ".py",
   "mimetype": "text/x-python",
   "name": "python",
   "nbconvert_exporter": "python",
   "pygments_lexer": "ipython3",
   "version": "3.9.13"
  }
 },
 "nbformat": 4,
 "nbformat_minor": 0
}
